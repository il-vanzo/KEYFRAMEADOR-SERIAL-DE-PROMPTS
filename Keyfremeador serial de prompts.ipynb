{
 "cells": [
  {
   "cell_type": "markdown",
   "metadata": {},
   "source": [
    "VERSIÓN GRADIERA"
   ]
  },
  {
   "cell_type": "code",
   "execution_count": null,
   "metadata": {
    "execution": {
     "iopub.execute_input": "2023-02-14T04:08:28.951400Z",
     "iopub.status.busy": "2023-02-14T04:08:28.949996Z",
     "iopub.status.idle": "2023-02-14T04:08:32.175406Z",
     "shell.execute_reply": "2023-02-14T04:08:32.173822Z",
     "shell.execute_reply.started": "2023-02-14T04:08:28.951353Z"
    }
   },
   "outputs": [
    {
     "ename": "",
     "evalue": "",
     "output_type": "error",
     "traceback": [
      "\u001b[1;31mNo se pudo iniciar el Kernel. \n",
      "\u001b[1;31mJupyter server crashed. Unable to connect. \n",
      "\u001b[1;31mError code from Jupyter: 1\n",
      "\u001b[1;31musage: jupyter.py [-h] [--version] [--config-dir] [--data-dir] [--runtime-dir]\n",
      "\u001b[1;31m                  [--paths] [--json] [--debug]\n",
      "\u001b[1;31m                  [subcommand]\n",
      "\u001b[1;31m\n",
      "\u001b[1;31mJupyter: Interactive Computing\n",
      "\u001b[1;31m\n",
      "\u001b[1;31mpositional arguments:\n",
      "\u001b[1;31m  subcommand     the subcommand to launch\n",
      "\u001b[1;31m\n",
      "\u001b[1;31moptions:\n",
      "\u001b[1;31m  -h, --help     show this help message and exit\n",
      "\u001b[1;31m  --version      show the versions of core jupyter packages and exit\n",
      "\u001b[1;31m  --config-dir   show Jupyter config dir\n",
      "\u001b[1;31m  --data-dir     show Jupyter data dir\n",
      "\u001b[1;31m  --runtime-dir  show Jupyter runtime dir\n",
      "\u001b[1;31m  --paths        show all Jupyter paths. Add --json for machine-readable\n",
      "\u001b[1;31m                 format.\n",
      "\u001b[1;31m  --json         output paths as machine-readable json\n",
      "\u001b[1;31m  --debug        output debug information about paths\n",
      "\u001b[1;31m\n",
      "\u001b[1;31mAvailable subcommands:\n",
      "\u001b[1;31m\n",
      "\u001b[1;31mJupyter command `jupyter-notebook` not found. \n",
      "\u001b[1;31mVea el [registro] de Jupyter (command:jupyter.viewOutput) para obtener más detalles."
     ]
    }
   ],
   "source": [
    "import gradio as gr\n",
    "\n",
    "def generar_secuencia(texto, Frame_inicial, Frame_final, Cadencia):\n",
    "    Frame_inicial = int(Frame_inicial)\n",
    "    Frame_final = int(Frame_final)\n",
    "    Cadencia = int(Cadencia)\n",
    "    result = \"\"\n",
    "    for i in range(Frame_inicial, Frame_final+1):\n",
    "        if i % Cadencia == 0:\n",
    "            result += f'    \"{i}\": \"{texto}\",\\n'\n",
    "    if result:\n",
    "        result = result[:-2]\n",
    "    return result\n",
    "\n",
    "iface = gr.Interface(\n",
    "    fn=generar_secuencia,\n",
    "    inputs=[\n",
    "        gr.Textbox(label=\"Prompt\"),\n",
    "        str(gr.Number(label=\"Frame inicial\")),\n",
    "        str(gr.Number(label=\"Frame final\")),\n",
    "        gr.Slider(minimum=1, maximum=8, step=1, label=\"Cadencia\")\n",
    "    ],\n",
    "    outputs=\"text\",\n",
    "    title=\"KEYFRAMEADOR SERIAL DE PROMPTS\",\n",
    "    description=\"Introduce un prompt, el frame inicial, el frame final y la cadencia para generar una secuencia de números con el prompt asociado y su respectivo intervalo.\",\n",
    "    theme=\"default\"\n",
    ")\n",
    "\n",
    "iface.launch(share=True)\n"
   ]
  },
  {
   "cell_type": "markdown",
   "metadata": {},
   "source": [
    "VERSION PYTHONERA"
   ]
  },
  {
   "cell_type": "code",
   "execution_count": 1,
   "metadata": {
    "execution": {
     "iopub.execute_input": "2023-02-14T02:26:29.929091Z",
     "iopub.status.busy": "2023-02-14T02:26:29.928450Z",
     "iopub.status.idle": "2023-02-14T02:26:29.938109Z",
     "shell.execute_reply": "2023-02-14T02:26:29.936613Z",
     "shell.execute_reply.started": "2023-02-14T02:26:29.929091Z"
    }
   },
   "outputs": [],
   "source": [
    "text = \"Que buena la milanga\"\n",
    "start = int(1)\n",
    "end = int(100)"
   ]
  },
  {
   "cell_type": "markdown",
   "metadata": {},
   "source": [
    "EJECUTAR"
   ]
  },
  {
   "cell_type": "code",
   "execution_count": null,
   "metadata": {
    "execution": {
     "iopub.execute_input": "2023-02-14T01:46:14.872716Z",
     "iopub.status.busy": "2023-02-14T01:46:14.871845Z",
     "iopub.status.idle": "2023-02-14T01:46:14.878988Z",
     "shell.execute_reply": "2023-02-14T01:46:14.877542Z",
     "shell.execute_reply.started": "2023-02-14T01:46:14.872676Z"
    }
   },
   "outputs": [
    {
     "name": "stdout",
     "output_type": "stream",
     "text": [
      "     \"2\": \"Que buena la milanga\",\n",
      "     \"4\": \"Que buena la milanga\",\n",
      "     \"6\": \"Que buena la milanga\",\n",
      "     \"8\": \"Que buena la milanga\",\n",
      "     \"10\": \"Que buena la milanga\",\n"
     ]
    }
   ],
   "source": [
    "for i in range(start, end+1):\n",
    "    ##INGRESAR VALOR DE CADENCIA\n",
    "    if i % 2 == 0:\n",
    "        print(\"    \",f'\"{i}\": \"{text}\",')\n"
   ]
  }
 ],
 "metadata": {
  "kernelspec": {
   "display_name": "Python 3 (ipykernel)",
   "language": "python",
   "name": "python3"
  },
  "language_info": {
   "codemirror_mode": {
    "name": "ipython",
    "version": 3
   },
   "file_extension": ".py",
   "mimetype": "text/x-python",
   "name": "python",
   "nbconvert_exporter": "python",
   "pygments_lexer": "ipython3",
   "version": "3.11.2"
  },
  "vscode": {
   "interpreter": {
    "hash": "aee8b7b246df8f9039afb4144a1f6fd8d2ca17a180786b69acc140d282b71a49"
   }
  }
 },
 "nbformat": 4,
 "nbformat_minor": 4
}
